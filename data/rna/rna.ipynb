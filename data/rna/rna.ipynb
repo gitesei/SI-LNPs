{
 "cells": [
  {
   "cell_type": "code",
   "execution_count": null,
   "id": "bdf2665e",
   "metadata": {},
   "outputs": [],
   "source": [
    "import matplotlib as mpl\n",
    "import matplotlib.pyplot as plt\n",
    "%matplotlib inline\n",
    "import numpy as np\n",
    "import pandas as pd\n",
    "from jinja2 import Template\n",
    "from math import sqrt, pi\n",
    "from scipy.optimize import brentq\n",
    "import glob, json\n",
    "import os\n",
    "try:\n",
    "    workdir\n",
    "except NameError:\n",
    "    workdir=%pwd\n",
    "else:\n",
    "    %cd $workdir"
   ]
  },
  {
   "cell_type": "markdown",
   "id": "073bad0b",
   "metadata": {},
   "source": [
    "### Faunus simulation input for single RNA 30-mer"
   ]
  },
  {
   "cell_type": "code",
   "execution_count": null,
   "id": "04a04b5b",
   "metadata": {},
   "outputs": [],
   "source": [
    "templateRNA = Template(\"\"\"comment: \"polyAde-30 in NaCl solution\"\n",
    "temperature: {{T}}\n",
    "random: {seed: hardware}\n",
    "geometry: {type: cuboid, length: {{L}}}\n",
    "mcloop: {macro: 10, micro: {{micro}}}\n",
    "\n",
    "atomlist:\n",
    "    - NU: {sigma: 7, eps: {{eps}}, dp: 2}\n",
    "    - P: {sigma: 4.6, eps: {{eps}}, dp: 2, q: -1}\n",
    "\n",
    "moleculelist:\n",
    "    - rna: \n",
    "        structure:\n",
    "{% for i in range(Nnuc) %}\n",
    "            - NU: [0,0,{{i*2+1-L/2}}]\n",
    "            - P:  [0,4,{{i*2+1-L/2}}]{% endfor %} \n",
    "        bondlist:\n",
    "{% for i in range(0,Nnuc*2-2,2) %}\n",
    "            - harmonic: { index: [{{i}},{{i+1}}], k: 4.8, req: 3.5 }\n",
    "            - harmonic: { index: [{{i}},{{i+2}}], k: 4.8, req: 5 }{% endfor %}\n",
    "            - harmonic: { index: [{{Nnuc*2-2}},{{Nnuc*2-1}}], k: 4.8, req: 3.5 }\n",
    "        excluded_neighbours: 1\n",
    "            \n",
    "insertmolecules:\n",
    "    - rna: {N: 1}\n",
    "\n",
    "energy:\n",
    "    - bonded: {}\n",
    "    - nonbonded_splined:\n",
    "        default:\n",
    "            - wca:\n",
    "                mixing: LB\n",
    "            - custom:\n",
    "                cutoff: 1000\n",
    "                function: lB * q1 * q2 * ( exp(-kappa*r) / r - exp(-kappa*Rc) / Rc )\n",
    "                constants:\n",
    "                    lB: {{lB}}\n",
    "                    kappa: {{kappa}}\n",
    "\n",
    "moves:\n",
    "    - transrot: {molecule: rna, repeat: N}\n",
    "    \n",
    "analysis:\n",
    "    - savestate: {file: state.json}\n",
    "    - savestate: {file: confout.pqr}\n",
    "    - savestate: {file: confout.gro}\n",
    "    - xtcfile: {file: traj.xtc, nstep: 1e3}\n",
    "    - reactioncoordinate: {file: Rg.dat, nstep: 1e3, type: molecule, property: Rg, index: 0}\n",
    "    - reactioncoordinate: {file: Ree.dat, nstep: 1e3, type: molecule, property: end2end, index: 0}\n",
    "    - reactioncoordinate: {file: tau.dat, nstep: 1e3, type: molecule, property: helicity, index: 0}\n",
    "    - systemenergy: {file: energy.dat, nstep: 1e5}\n",
    "\"\"\")"
   ]
  },
  {
   "cell_type": "code",
   "execution_count": null,
   "id": "776b3e3b",
   "metadata": {},
   "outputs": [],
   "source": [
    "submit = Template(\"\"\"#!/bin/bash\n",
    "#requesting the number of cores needed on exclusive nodes\n",
    "#SBATCH -N 1\n",
    "#SBATCH --ntasks-per-node=1\n",
    "#SBATCH -A lu2022-2-36\n",
    "#\n",
    "# job time, change for what your job requires\n",
    "#SBATCH -t 100:0:0\n",
    "#\n",
    "# job name\n",
    "#SBATCH -J {{name}}\n",
    "#\n",
    "# filenames stdout and stderr\n",
    "#SBATCH -o out\n",
    "#SBATCH -e err\n",
    "\n",
    "source /home/gtesei00/.bashrc\n",
    "module load GCCcore/9.3.0\n",
    "module load CMake/3.16.4\n",
    "module load GCC/9.3.0\n",
    "conda activate faunus\n",
    "\n",
    "/home/gtesei00/Jun22/faunus/faunus --input inp.json --output outp.json -v0 # --state state.json \n",
    "\"\"\")"
   ]
  },
  {
   "cell_type": "markdown",
   "id": "5663f3ed",
   "metadata": {},
   "source": [
    "### generate scripts and run simulations"
   ]
  },
  {
   "cell_type": "code",
   "execution_count": null,
   "id": "4fb36bd0",
   "metadata": {
    "scrolled": false
   },
   "outputs": [],
   "source": [
    "%cd $workdir\n",
    "faunus_path = '../../faunus'\n",
    "dirname = '{:s}_{:.2f}_{:.1f}_{:.2g}'\n",
    "T = 298\n",
    "L = 200\n",
    "R = 8.3145 # J/K/mol\n",
    "eps = R*T*1e-3 # kJ/mol\n",
    "fepsw = lambda T : 5321/T+233.76-0.9297*T+0.1417*1e-2*T*T-0.8292*1e-6*T**3\n",
    "epsw = fepsw(T)\n",
    "lB = 1.60217662**2/(4*np.pi*8.8541878*epsw*1.38064852*T)*1e7\n",
    "print(lB)\n",
    "Nnuc = 30\n",
    "for cs in [20,100,200,400,600]:\n",
    "    !mkdir {cs}\n",
    "    %cd {cs}\n",
    "    kappa = np.sqrt(8*np.pi*lB*cs*6.022/1e5)/10\n",
    "    with open('inp.yml', 'w') as input_file:\n",
    "        input_file.write(templateRNA.render(T=T, L=L, micro=1e6,\n",
    "                    repeat=10, Nnuc=Nnuc, epsw=epsw, lB=lB, eps=eps, kappa=kappa))\n",
    "    !{faunus_path}/scripts/yason.py inp.yml > inp.json\n",
    "    with open('submit.sh', 'w') as submit_file:\n",
    "        temp = submit.render(name=str(cs))\n",
    "        submit_file.write(temp)\n",
    "    #!nohup {faunus_path}/faunus --input inp.json --output outp.json --state state.json &\n",
    "    #!sbatch submit.sh\n",
    "    %cd .."
   ]
  }
 ],
 "metadata": {
  "kernelspec": {
   "display_name": "Python 3 (ipykernel)",
   "language": "python",
   "name": "python3"
  },
  "language_info": {
   "codemirror_mode": {
    "name": "ipython",
    "version": 3
   },
   "file_extension": ".py",
   "mimetype": "text/x-python",
   "name": "python",
   "nbconvert_exporter": "python",
   "pygments_lexer": "ipython3",
   "version": "3.8.17"
  }
 },
 "nbformat": 4,
 "nbformat_minor": 5
}
